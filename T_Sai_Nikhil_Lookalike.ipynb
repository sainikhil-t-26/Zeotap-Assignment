{
  "nbformat": 4,
  "nbformat_minor": 0,
  "metadata": {
    "colab": {
      "provenance": []
    },
    "kernelspec": {
      "name": "python3",
      "display_name": "Python 3"
    },
    "language_info": {
      "name": "python"
    }
  },
  "cells": [
    {
      "cell_type": "code",
      "execution_count": null,
      "metadata": {
        "id": "DsCQP1VE-ooy"
      },
      "outputs": [],
      "source": [
        "import pandas as pd\n",
        "import numpy as np\n",
        "from sklearn.metrics.pairwise import cosine_similarity\n",
        "from sklearn.preprocessing import StandardScaler\n",
        "from collections import defaultdict\n",
        "\n",
        "customers = pd.read_csv(\"Customers.csv\")\n",
        "products = pd.read_csv(\"Products.csv\")\n",
        "transactions = pd.read_csv(\"Transactions.csv\")\n",
        "\n",
        "merged_data = transactions.merge(customers, on='CustomerID', how='left')\n",
        "merged_data = merged_data.merge(products, on='ProductID', how='left')\n",
        "\n",
        "\n",
        "customer_spending = merged_data.groupby('CustomerID')['TotalValue'].sum().reset_index()\n",
        "customer_spending.rename(columns={'TotalValue': 'TotalSpending'}, inplace=True)\n",
        "\n",
        "customer_transactions_count = merged_data.groupby('CustomerID').size().reset_index(name='TotalTransactions')\n",
        "\n",
        "customer_avg_transaction_value = merged_data.groupby('CustomerID')['TotalValue'].mean().reset_index()\n",
        "customer_avg_transaction_value.rename(columns={'TotalValue': 'AvgTransactionValue'}, inplace=True)\n",
        "\n",
        "category_interactions = merged_data.groupby(['CustomerID', 'Category']).size().unstack(fill_value=0)\n",
        "\n",
        "customer_features = pd.merge(customer_spending, customer_transactions_count, on='CustomerID', how='left')\n",
        "customer_features = pd.merge(customer_features, customer_avg_transaction_value, on='CustomerID', how='left')\n",
        "customer_features = pd.merge(customer_features, category_interactions, on='CustomerID', how='left').fillna(0)\n",
        "\n",
        "scaler = StandardScaler()\n",
        "features_scaled = scaler.fit_transform(customer_features.drop('CustomerID', axis=1))\n",
        "\n",
        "cosine_sim = cosine_similarity(features_scaled)\n",
        "\n",
        "lookalike_recommendations = defaultdict(list)\n",
        "\n",
        "for idx, cust_id in enumerate(customer_features['CustomerID'].head(20)):\n",
        "    similarities = cosine_sim[idx]\n",
        "    similar_customer_indices = similarities.argsort()[::-1][1:4]  # Get top 3 similar customers excluding self\n",
        "    for similar_idx in similar_customer_indices:\n",
        "        similar_cust_id = customer_features['CustomerID'].iloc[similar_idx]\n",
        "        score = similarities[similar_idx]\n",
        "        lookalike_recommendations[cust_id].append((similar_cust_id, score))\n",
        "\n",
        "lookalike_df = pd.DataFrame([(key, value[0][0], value[0][1], value[1][0], value[1][1], value[2][0], value[2][1])\n",
        "                             for key, value in lookalike_recommendations.items()],\n",
        "                            columns=[\"CustomerID\", \"Lookalike_1\", \"Score_1\", \"Lookalike_2\", \"Score_2\", \"Lookalike_3\", \"Score_3\"])\n",
        "\n",
        "lookalike_df.to_csv(\"Lookalike.csv\", index=False)\n",
        "\n",
        "print(\"Lookalike model created and saved as Lookalike.csv\")\n"
      ]
    }
  ]
}