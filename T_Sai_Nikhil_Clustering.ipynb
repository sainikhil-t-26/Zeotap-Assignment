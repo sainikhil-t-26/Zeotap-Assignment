{
  "nbformat": 4,
  "nbformat_minor": 0,
  "metadata": {
    "colab": {
      "provenance": []
    },
    "kernelspec": {
      "name": "python3",
      "display_name": "Python 3"
    },
    "language_info": {
      "name": "python"
    }
  },
  "cells": [
    {
      "cell_type": "code",
      "execution_count": 1,
      "metadata": {
        "colab": {
          "base_uri": "https://localhost:8080/",
          "height": 383
        },
        "id": "PpE77rBcAPcr",
        "outputId": "6bc7ddf2-fa67-4c14-8cd3-f795f1bb8e4e"
      },
      "outputs": [
        {
          "output_type": "error",
          "ename": "ModuleNotFoundError",
          "evalue": "No module named 'fpdf'",
          "traceback": [
            "\u001b[0;31m---------------------------------------------------------------------------\u001b[0m",
            "\u001b[0;31mModuleNotFoundError\u001b[0m                       Traceback (most recent call last)",
            "\u001b[0;32m<ipython-input-1-c8d802d5a5ab>\u001b[0m in \u001b[0;36m<cell line: 0>\u001b[0;34m()\u001b[0m\n\u001b[1;32m      7\u001b[0m \u001b[0;32mfrom\u001b[0m \u001b[0msklearn\u001b[0m\u001b[0;34m.\u001b[0m\u001b[0mpreprocessing\u001b[0m \u001b[0;32mimport\u001b[0m \u001b[0mStandardScaler\u001b[0m\u001b[0;34m\u001b[0m\u001b[0;34m\u001b[0m\u001b[0m\n\u001b[1;32m      8\u001b[0m \u001b[0;32mfrom\u001b[0m \u001b[0msklearn\u001b[0m\u001b[0;34m.\u001b[0m\u001b[0mdecomposition\u001b[0m \u001b[0;32mimport\u001b[0m \u001b[0mPCA\u001b[0m\u001b[0;34m\u001b[0m\u001b[0;34m\u001b[0m\u001b[0m\n\u001b[0;32m----> 9\u001b[0;31m \u001b[0;32mfrom\u001b[0m \u001b[0mfpdf\u001b[0m \u001b[0;32mimport\u001b[0m \u001b[0mFPDF\u001b[0m\u001b[0;34m\u001b[0m\u001b[0;34m\u001b[0m\u001b[0m\n\u001b[0m\u001b[1;32m     10\u001b[0m \u001b[0;34m\u001b[0m\u001b[0m\n\u001b[1;32m     11\u001b[0m \u001b[0;31m# Load the data\u001b[0m\u001b[0;34m\u001b[0m\u001b[0;34m\u001b[0m\u001b[0m\n",
            "\u001b[0;31mModuleNotFoundError\u001b[0m: No module named 'fpdf'",
            "",
            "\u001b[0;31m---------------------------------------------------------------------------\u001b[0;32m\nNOTE: If your import is failing due to a missing package, you can\nmanually install dependencies using either !pip or !apt.\n\nTo view examples of installing some common dependencies, click the\n\"Open Examples\" button below.\n\u001b[0;31m---------------------------------------------------------------------------\u001b[0m\n"
          ],
          "errorDetails": {
            "actions": [
              {
                "action": "open_url",
                "actionText": "Open Examples",
                "url": "/notebooks/snippets/importing_libraries.ipynb"
              }
            ]
          }
        }
      ],
      "source": [
        "import pandas as pd\n",
        "import numpy as np\n",
        "import matplotlib.pyplot as plt\n",
        "import seaborn as sns\n",
        "from sklearn.cluster import KMeans\n",
        "from sklearn.metrics import davies_bouldin_score\n",
        "from sklearn.preprocessing import StandardScaler\n",
        "from sklearn.decomposition import PCA\n",
        "from fpdf import FPDF\n",
        "\n",
        "# Load the data\n",
        "customers = pd.read_csv(\"Customers.csv\")\n",
        "products = pd.read_csv(\"Products.csv\")\n",
        "transactions = pd.read_csv(\"Transactions.csv\")\n",
        "\n",
        "merged_data = pd.merge(transactions, customers[['CustomerID', 'Region']], on='CustomerID', how='left')\n",
        "merged_data = pd.merge(merged_data, products[['ProductID', 'Category']], on='ProductID', how='left')\n",
        "\n",
        "category_interactions = merged_data.groupby(['CustomerID', 'Category'])['Quantity'].sum().unstack(fill_value=0)\n",
        "\n",
        "customer_summary = merged_data.groupby('CustomerID').agg(\n",
        "    transaction_count=('TransactionID', 'count'),\n",
        "    total_spent=('TotalValue', 'sum')\n",
        ").reset_index()\n",
        "\n",
        "final_data = pd.merge(category_interactions, customer_summary, on='CustomerID', how='left')\n",
        "\n",
        "if 'Region' in final_data.columns:\n",
        "    final_data = pd.get_dummies(final_data, columns=['Region'], drop_first=True)\n",
        "\n",
        "features = final_data.drop(columns=['CustomerID'])\n",
        "scaler = StandardScaler()\n",
        "scaled_features = scaler.fit_transform(features)\n",
        "\n",
        "kmeans = KMeans(n_clusters=5, random_state=42)\n",
        "final_data['Cluster'] = kmeans.fit_predict(scaled_features)\n",
        "\n",
        "db_index = davies_bouldin_score(scaled_features, final_data['Cluster'])\n",
        "\n",
        "\n",
        "pca = PCA(n_components=2)\n",
        "pca_components = pca.fit_transform(scaled_features)\n",
        "\n",
        "\n",
        "final_data['PCA1'] = pca_components[:, 0]\n",
        "final_data['PCA2'] = pca_components[:, 1]\n",
        "\n",
        "plt.figure(figsize=(10, 6))\n",
        "sns.scatterplot(data=final_data, x='PCA1', y='PCA2', hue='Cluster', palette='viridis')\n",
        "plt.title('Customer Segmentation Based on Profile and Transactions')\n",
        "plt.xlabel('PCA1')\n",
        "plt.ylabel('PCA2')\n",
        "plt.legend(title='Cluster')\n",
        "plt.savefig('cluster_visualization.png')\n",
        "\n",
        "\n",
        "final_data.to_csv(\"Customer_Segmentation.csv\", index=False)\n",
        "\n",
        "# Create PDF report\n",
        "pdf = FPDF()\n",
        "pdf.set_auto_page_break(auto=True, margin=15)\n",
        "pdf.add_page()\n",
        "\n",
        "# Title\n",
        "pdf.set_font(\"Arial\", size=16, style='B')\n",
        "pdf.cell(200, 10, txt=\"Customer Segmentation and Clustering Report\", ln=True, align='C')\n",
        "\n",
        "# Clustering Summary\n",
        "pdf.ln(10)\n",
        "pdf.set_font(\"Arial\", size=12)\n",
        "pdf.cell(200, 10, txt=f\"Number of clusters formed: 5\", ln=True)\n",
        "pdf.cell(200, 10, txt=f\"Davies-Bouldin Index: {db_index:.4f}\", ln=True)\n",
        "\n",
        "# Cluster Distribution\n",
        "cluster_sizes = final_data['Cluster'].value_counts().to_string()\n",
        "pdf.ln(10)\n",
        "pdf.multi_cell(0, 10, txt=\"Cluster Sizes:\\n\" + cluster_sizes)\n",
        "\n",
        "# Add the PCA Plot\n",
        "pdf.ln(10)\n",
        "pdf.cell(200, 10, txt=\"Cluster Visualization (PCA Projection)\", ln=True)\n",
        "pdf.image('cluster_visualization.png', x=10, y=pdf.get_y(), w=180)\n",
        "\n",
        "\n",
        "pdf.output(\"Customer_Segmentation_Report.pdf\")\n",
        "\n",
        "print(\"Clustering complete. Results saved to 'Customer_Segmentation_Report.pdf'.\")\n"
      ]
    }
  ]
}